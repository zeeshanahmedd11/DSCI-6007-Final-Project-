{
  "nbformat": 4,
  "nbformat_minor": 0,
  "metadata": {
    "colab": {
      "name": "mobilenet.ipynb",
      "provenance": [],
      "collapsed_sections": []
    },
    "kernelspec": {
      "name": "python3",
      "display_name": "Python 3"
    }
  },
  "cells": [
    {
      "cell_type": "code",
      "metadata": {
        "id": "9asBqrU8mJgS",
        "colab_type": "code",
        "colab": {}
      },
      "source": [
        "import os\n",
        "os.environ[\"JAVA_HOME\"] = \"/usr/lib/jvm/java-8-openjdk-amd64\"\n",
        "os.environ[\"SPARK_HOME\"] = \"/content/spark-2.4.5-bin-hadoop2.7\""
      ],
      "execution_count": 0,
      "outputs": []
    },
    {
      "cell_type": "code",
      "metadata": {
        "id": "eNx7g8TPmKzp",
        "colab_type": "code",
        "colab": {}
      },
      "source": [
        "import findspark\n",
        "findspark.init()\n",
        "from pyspark.sql import SparkSession\n",
        "from pyspark import SparkContext"
      ],
      "execution_count": 0,
      "outputs": []
    },
    {
      "cell_type": "code",
      "metadata": {
        "id": "ZP8GSDfwmMGR",
        "colab_type": "code",
        "colab": {}
      },
      "source": [
        "from pyspark import SparkContext\n",
        "from pyspark.sql import SQLContext\n",
        "from pyspark.sql.types import *\n",
        "from pyspark.sql.functions import *"
      ],
      "execution_count": 0,
      "outputs": []
    },
    {
      "cell_type": "code",
      "metadata": {
        "id": "uamYQ53QmNis",
        "colab_type": "code",
        "colab": {}
      },
      "source": [
        "from pyspark import SparkContext\n",
        "from pyspark.sql import SQLContext\n",
        "from pyspark.sql import SparkSession\n",
        "from pyspark.conf import SparkConf"
      ],
      "execution_count": 0,
      "outputs": []
    },
    {
      "cell_type": "code",
      "metadata": {
        "id": "ygOsCt-EmPM2",
        "colab_type": "code",
        "colab": {}
      },
      "source": [
        "sc = SparkContext()\n",
        "spark = SparkSession(sc)\n",
        "sqlContext = SQLContext(sc)"
      ],
      "execution_count": 0,
      "outputs": []
    },
    {
      "cell_type": "code",
      "metadata": {
        "id": "zWvP92IQe6Mn",
        "colab_type": "code",
        "colab": {}
      },
      "source": [
        "input_data=\"s3://nikhifinalproj6007/devicestatus.txt\""
      ],
      "execution_count": 0,
      "outputs": []
    },
    {
      "cell_type": "code",
      "metadata": {
        "id": "uQwH1w7MdlVm",
        "colab_type": "code",
        "colab": {}
      },
      "source": [
        "data = sc.textFile(input_data)\n",
        "parts = data.map(lambda l: l.split(\"\\t\"))\n",
        "# Each line is converted to a tuple.\n",
        "final_data = parts.map(lambda p: (float(p[0]),float(p[1]),StringType(p[2]),StringType(p[3]),StringType(p[4]).strip()))\n",
        "final_data =final_data.filter(lambda p: p[0]!=0 and p[1]!=0)"
      ],
      "execution_count": 0,
      "outputs": []
    },
    {
      "cell_type": "code",
      "metadata": {
        "id": "ho24wXuVrQUp",
        "colab_type": "code",
        "outputId": "e7a5a50f-e1b0-4836-f409-0126731a2624",
        "colab": {
          "base_uri": "https://localhost:8080/",
          "height": 73
        }
      },
      "source": [
        "\n",
        "final_data.take(3)"
      ],
      "execution_count": 0,
      "outputs": [
        {
          "output_type": "execute_result",
          "data": {
            "text/plain": [
              "[(33.6894754264, -117.543308253, '2014-03-15:10:10:20', 'Sorrento', 'F41L'),\n",
              " (37.4321088904, -121.485029632, '2014-03-15:10:10:20', 'MeeToo', '1.0'),\n",
              " (39.4378908349, -120.938978486, '2014-03-15:10:10:20', 'MeeToo', '1.0')]"
            ]
          },
          "metadata": {
            "tags": []
          },
          "execution_count": 9
        }
      ]
    },
    {
      "cell_type": "code",
      "metadata": {
        "id": "rJp1Es53dzqe",
        "colab_type": "code",
        "colab": {}
      },
      "source": [
        "output_bucket=\"s3://nikhifinalproj6007/final_data\""
      ],
      "execution_count": 0,
      "outputs": []
    },
    {
      "cell_type": "code",
      "metadata": {
        "id": "9Q0pxCMud0st",
        "colab_type": "code",
        "colab": {}
      },
      "source": [
        "df.rdd.coalesce(1).saveAsTextFile(output_bucket)"
      ],
      "execution_count": 0,
      "outputs": []
    },
    {
      "cell_type": "code",
      "metadata": {
        "id": "mv6Q9CoyP7ac",
        "colab_type": "code",
        "outputId": "b4edc2dd-9df8-4d26-cd0e-b4ab4300626a",
        "colab": {
          "base_uri": "https://localhost:8080/",
          "height": 204
        }
      },
      "source": [
        "sc.textFile(output_bucket).take(10)"
      ],
      "execution_count": 0,
      "outputs": [
        {
          "output_type": "execute_result",
          "data": {
            "text/plain": [
              "[\"Row(latitude=33.689476013183594, longtitude=-117.54330444335938, date='2014-03-15 10:10:20', manufacturer='Sorrento', model_name='F41L')\",\n",
              " \"Row(latitude=37.43210983276367, longtitude=-121.48503112792969, date='2014-03-15 10:10:20', manufacturer='MeeToo', model_name='1.0')\",\n",
              " \"Row(latitude=39.437889099121094, longtitude=-120.93898010253906, date='2014-03-15 10:10:20', manufacturer='MeeToo', model_name='1.0')\",\n",
              " \"Row(latitude=39.36351776123047, longtitude=-119.40033721923828, date='2014-03-15 10:10:20', manufacturer='Sorrento', model_name='F41L')\",\n",
              " \"Row(latitude=33.19135665893555, longtitude=-116.4482421875, date='2014-03-15 10:10:20', manufacturer='Ronin', model_name='Novelty')\",\n",
              " \"Row(latitude=33.834354400634766, longtitude=-117.33000183105469, date='2014-03-15 10:10:20', manufacturer='Sorrento', model_name='F41L')\",\n",
              " \"Row(latitude=37.380393981933594, longtitude=-121.84075927734375, date='2014-03-15 10:10:20', manufacturer='Sorrento', model_name='F33L')\",\n",
              " \"Row(latitude=34.184104919433594, longtitude=-117.94353485107422, date='2014-03-15 10:10:20', manufacturer='MeeToo', model_name='4.1')\",\n",
              " \"Row(latitude=32.285057067871094, longtitude=-111.819580078125, date='2014-03-15 10:10:20', manufacturer='Ronin', model_name='Novelty')\",\n",
              " \"Row(latitude=45.24005126953125, longtitude=-122.3774642944336, date='2014-03-15 10:10:20', manufacturer='Sorrento', model_name='F41L')\"]"
            ]
          },
          "metadata": {
            "tags": []
          },
          "execution_count": 21
        }
      ]
    },
    {
      "cell_type": "code",
      "metadata": {
        "id": "DNLrHUv2QCtl",
        "colab_type": "code",
        "colab": {}
      },
      "source": [
        "import pandas as pd\n",
        "df = final_data.select(\"*\").toPandas()"
      ],
      "execution_count": 0,
      "outputs": []
    },
    {
      "cell_type": "code",
      "metadata": {
        "id": "7Vna8eH0T9dx",
        "colab_type": "code",
        "outputId": "1b527d6f-5fdd-47a6-f2b5-04d5fdb2ad81",
        "colab": {
          "base_uri": "https://localhost:8080/",
          "height": 483
        }
      },
      "source": [
        "import matplotlib.pyplot as plt\n",
        "from matplotlib.pyplot import figure\n",
        "plt.scatter(df[\"latitude\"],df[\"longitude\"],alpha=.5,marker='o',s=.09)\n",
        "plt.xlabel(\"latitude\")\n",
        "plt.ylabel(\"longitude\")\n",
        "plt.show()"
      ],
      "execution_count": 0,
      "outputs": [
        {
          "output_type": "display_data",
          "data": {
            "image/png": "[encoded data removed]",
            "text/plain": [
              "<Figure size 576x576 with 1 Axes>"
            ]
          },
          "metadata": {
            "tags": []
          }
        }
      ]
    },
    {
      "cell_type": "code",
      "metadata": {
        "id": "mYk_1lhkcygN",
        "colab_type": "code",
        "colab": {}
      },
      "source": [
        ""
      ],
      "execution_count": 0,
      "outputs": []
    }
  ]
}