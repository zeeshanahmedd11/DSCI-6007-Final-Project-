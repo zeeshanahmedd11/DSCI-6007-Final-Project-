{
  "nbformat": 4,
  "nbformat_minor": 0,
  "metadata": {
    "colab": {
      "name": "comparison_final .ipynb",
      "provenance": []
    },
    "kernelspec": {
      "name": "python3",
      "display_name": "Python 3"
    }
  },
  "cells": [
    {
      "cell_type": "code",
      "metadata": {
        "id": "wPUjBTgK1VSb",
        "colab_type": "code",
        "colab": {}
      },
      "source": [
        "times =[[12.97342848777771, 4.552607297897339, 23.093036890029907],[5.689499855041504, 3.582080841064453, 21.63650631904602]]"
      ],
      "execution_count": 0,
      "outputs": []
    },
    {
      "cell_type": "code",
      "metadata": {
        "id": "HSyRHt0s1n8y",
        "colab_type": "code",
        "colab": {}
      },
      "source": [
        "import pandas as pd\n",
        "df = pd.DataFrame(times,columns=['device','synthetic','dbpedia'],index=['EMR','local-2'])"
      ],
      "execution_count": 0,
      "outputs": []
    },
    {
      "cell_type": "code",
      "metadata": {
        "id": "EEnuG_B013zD",
        "colab_type": "code",
        "colab": {
          "base_uri": "https://localhost:8080/",
          "height": 111
        },
        "outputId": "6b6c01a9-8190-4f80-8301-aa64a571a4e4"
      },
      "source": [
        "df"
      ],
      "execution_count": 12,
      "outputs": [
        {
          "output_type": "execute_result",
          "data": {
            "text/html": [
              "<div>\n",
              "<style scoped>\n",
              "    .dataframe tbody tr th:only-of-type {\n",
              "        vertical-align: middle;\n",
              "    }\n",
              "\n",
              "    .dataframe tbody tr th {\n",
              "        vertical-align: top;\n",
              "    }\n",
              "\n",
              "    .dataframe thead th {\n",
              "        text-align: right;\n",
              "    }\n",
              "</style>\n",
              "<table border=\"1\" class=\"dataframe\">\n",
              "  <thead>\n",
              "    <tr style=\"text-align: right;\">\n",
              "      <th></th>\n",
              "      <th>device</th>\n",
              "      <th>synthetic</th>\n",
              "      <th>dbpedia</th>\n",
              "    </tr>\n",
              "  </thead>\n",
              "  <tbody>\n",
              "    <tr>\n",
              "      <th>EMR</th>\n",
              "      <td>12.973428</td>\n",
              "      <td>4.552607</td>\n",
              "      <td>23.093037</td>\n",
              "    </tr>\n",
              "    <tr>\n",
              "      <th>local-2</th>\n",
              "      <td>5.689500</td>\n",
              "      <td>3.582081</td>\n",
              "      <td>21.636506</td>\n",
              "    </tr>\n",
              "  </tbody>\n",
              "</table>\n",
              "</div>"
            ],
            "text/plain": [
              "            device  synthetic    dbpedia\n",
              "EMR      12.973428   4.552607  23.093037\n",
              "local-2   5.689500   3.582081  21.636506"
            ]
          },
          "metadata": {
            "tags": []
          },
          "execution_count": 12
        }
      ]
    },
    {
      "cell_type": "code",
      "metadata": {
        "id": "fv1OnRud14mR",
        "colab_type": "code",
        "colab": {
          "base_uri": "https://localhost:8080/",
          "height": 305
        },
        "outputId": "e8f0a9b7-61e9-48e6-da84-d2e92bd152e0"
      },
      "source": [
        "import matplotlib.pyplot as plt\n",
        "df.plot(kind='bar',title=\"time comparisons\")\n",
        "plt.ylabel(\"seconds\")\n",
        "plt.show()"
      ],
      "execution_count": 13,
      "outputs": [
        {
          "output_type": "display_data",
          "data": {
            "image/png": "[encoded data removed]",
            "text/plain": [
              "<Figure size 432x288 with 1 Axes>"
            ]
          },
          "metadata": {
            "tags": [],
            "needs_background": "light"
          }
        }
      ]
    },
    {
      "cell_type": "code",
      "metadata": {
        "id": "3VURIqCl18fl",
        "colab_type": "code",
        "colab": {}
      },
      "source": [
        ""
      ],
      "execution_count": 0,
      "outputs": []
    }
  ]
}